{
 "cells": [
  {
   "cell_type": "code",
   "execution_count": 2,
   "metadata": {},
   "outputs": [],
   "source": [
    "import numpy as np\n",
    "\n",
    "import matplotlib.pyplot as plt\n",
    "from mpl_toolkits.mplot3d import Axes3D\n",
    "from pytransform3d.rotations import *"
   ]
  },
  {
   "cell_type": "markdown",
   "metadata": {},
   "source": [
    "## Operação de Rotação"
   ]
  },
  {
   "cell_type": "markdown",
   "metadata": {},
   "source": [
    "${}^A\\mathbf{P} = \\mathbf{R}(\\theta) {}^B\\mathbf{P} = \n",
    "\\begin{bmatrix}\n",
    "\\cos(\\theta) & -\\sin(\\theta) & 0 & q_x\\\\\n",
    "\\sin(\\theta) & \\cos(\\theta) & 0 & q_y\\\\\n",
    "0 & 0 & 1 & q_z\\\\ \n",
    "0 & 0 & 0 & 1\\\\\n",
    "\\end{bmatrix}.\n",
    "\\begin{bmatrix}\n",
    "{}^Bp_x\\\\\n",
    "{}^Bp_y\\\\\n",
    "{}^Bp_z\\\\\n",
    "1\n",
    "\\end{bmatrix}$"
   ]
  },
  {
   "cell_type": "code",
   "execution_count": 3,
   "metadata": {},
   "outputs": [],
   "source": [
    "theta = 30\n",
    "angle = 'deg'"
   ]
  },
  {
   "cell_type": "code",
   "execution_count": 4,
   "metadata": {},
   "outputs": [],
   "source": [
    "def rotation_matrix(theta, angle = 'rad'):\n",
    "    if angle == 'deg':\n",
    "        theta = np.deg2rad(theta)\n",
    "    rotate_matrix = np.array([[np.cos(theta),   -np.sin(theta),  0.],\n",
    "                            [np.sin(theta),     np.cos(theta),  0.],\n",
    "                            [0.,                 0.,              1.]])\n",
    "    return np.round(rotate_matrix,2)"
   ]
  },
  {
   "cell_type": "code",
   "execution_count": 5,
   "metadata": {},
   "outputs": [],
   "source": [
    "P_b = np.array([[1.],[0.],[0.]])"
   ]
  },
  {
   "cell_type": "code",
   "execution_count": 5,
   "metadata": {},
   "outputs": [
    {
     "output_type": "execute_result",
     "data": {
      "text/plain": [
       "array([[ 0.87, -0.5 ,  0.  ],\n",
       "       [ 0.5 ,  0.87,  0.  ],\n",
       "       [ 0.  ,  0.  ,  1.  ]])"
      ]
     },
     "metadata": {},
     "execution_count": 5
    }
   ],
   "source": [
    "# exemplo da matrix de rotacao em 20 graus\n",
    "rotation_matrix(30, angle='deg')"
   ]
  },
  {
   "cell_type": "code",
   "execution_count": 6,
   "metadata": {},
   "outputs": [
    {
     "output_type": "stream",
     "name": "stdout",
     "text": [
      "[[1.]\n [0.]\n [0.]]\n"
     ]
    }
   ],
   "source": [
    "print(P_b)"
   ]
  },
  {
   "cell_type": "code",
   "execution_count": 6,
   "metadata": {},
   "outputs": [],
   "source": [
    "P_a = np.dot(rotation_matrix(180, angle='deg'),P_b)"
   ]
  },
  {
   "cell_type": "code",
   "execution_count": 7,
   "metadata": {},
   "outputs": [
    {
     "output_type": "stream",
     "name": "stdout",
     "text": [
      "[[-1.]\n [ 0.]\n [ 0.]]\n"
     ]
    }
   ],
   "source": [
    "print(P_a)"
   ]
  },
  {
   "cell_type": "code",
   "execution_count": 9,
   "metadata": {},
   "outputs": [
    {
     "output_type": "execute_result",
     "data": {
      "text/plain": [
       "array([[ 0.95533649,  0.29552021,  0.        ],\n",
       "       [-0.29552021,  0.95533649,  0.        ],\n",
       "       [ 0.        ,  0.        ,  1.        ]])"
      ]
     },
     "metadata": {},
     "execution_count": 9
    }
   ],
   "source": [
    "matrix_from_euler_xyz([0, 0, 0.3])"
   ]
  },
  {
   "cell_type": "code",
   "execution_count": 10,
   "metadata": {},
   "outputs": [
    {
     "output_type": "execute_result",
     "data": {
      "text/plain": [
       "array([[ 0.96, -0.3 ,  0.  ],\n",
       "       [ 0.3 ,  0.96,  0.  ],\n",
       "       [ 0.  ,  0.  ,  1.  ]])"
      ]
     },
     "metadata": {},
     "execution_count": 10
    }
   ],
   "source": [
    "rotation_matrix(0.3, angle='rad')"
   ]
  },
  {
   "cell_type": "markdown",
   "metadata": {
    "colab_type": "text",
    "id": "POdnjDRCrKtU"
   },
   "source": [
    "${}^A\\mathbf{P} = \\mathcal{A}_0^1 {}^B\\mathbf{P} = \n",
    "\\begin{bmatrix}\n",
    "\\cos(\\theta) & -\\sin(\\theta) & 0 & q_x\\\\\n",
    "\\sin(\\theta) & \\cos(\\theta) & 0 & q_y\\\\\n",
    "0 & 0 & 1 & q_z\\\\ \n",
    "0 & 0 & 0 & 1\\\\\n",
    "\\end{bmatrix}.\n",
    "\\begin{bmatrix}\n",
    "{}^Bp_x\\\\\n",
    "{}^Bp_y\\\\\n",
    "{}^Bp_z\\\\\n",
    "1\n",
    "\\end{bmatrix}$"
   ]
  },
  {
   "cell_type": "code",
   "execution_count": 8,
   "metadata": {},
   "outputs": [],
   "source": [
    "def th(theta, Q):\n",
    "    if angle == 'deg':\n",
    "        theta = np.deg2rad(theta)\n",
    "    th_matrix = np.array([[np.cos(theta),   -np.sin(theta), 0.,      Q[0]],\n",
    "                          [np.sin(theta),   np.cos(theta),  0.,      Q[1]],\n",
    "                          [0.,        0.,                   1.,      Q[2]],\n",
    "                          [0.,        0.,                   0.,      1.]])\n",
    "    return th_matrix"
   ]
  },
  {
   "cell_type": "code",
   "execution_count": 9,
   "metadata": {},
   "outputs": [],
   "source": [
    "P_b = np.array([[1.],[0.],[0.]])\n",
    "P_a = np.zeros((4,1))"
   ]
  },
  {
   "cell_type": "code",
   "execution_count": 10,
   "metadata": {},
   "outputs": [],
   "source": [
    "P_b = np.vstack((P_b, [1]))"
   ]
  },
  {
   "cell_type": "code",
   "execution_count": 12,
   "metadata": {},
   "outputs": [
    {
     "output_type": "stream",
     "name": "stdout",
     "text": [
      "[[1.]\n [0.]\n [0.]\n [1.]]\n"
     ]
    }
   ],
   "source": [
    "print(P_b)"
   ]
  },
  {
   "cell_type": "code",
   "execution_count": 14,
   "metadata": {},
   "outputs": [],
   "source": [
    "Q_a = np.array([3.,2.,1.])"
   ]
  },
  {
   "cell_type": "code",
   "execution_count": 15,
   "metadata": {},
   "outputs": [],
   "source": [
    "P_a = np.dot(th(np.deg2rad(20),Q_a), P_b)"
   ]
  },
  {
   "cell_type": "code",
   "execution_count": 16,
   "metadata": {},
   "outputs": [
    {
     "output_type": "stream",
     "name": "stdout",
     "text": [
      "[[3.99998144]\n [2.00609231]\n [1.        ]\n [1.        ]]\n"
     ]
    }
   ],
   "source": [
    "print(P_a)"
   ]
  },
  {
   "cell_type": "code",
   "execution_count": null,
   "metadata": {},
   "outputs": [],
   "source": []
  },
  {
   "cell_type": "code",
   "execution_count": 19,
   "metadata": {},
   "outputs": [],
   "source": [
    "R=rotation_matrix(67, angle='rad')"
   ]
  },
  {
   "cell_type": "code",
   "execution_count": 20,
   "metadata": {},
   "outputs": [
    {
     "output_type": "execute_result",
     "data": {
      "text/plain": [
       "array([[ 1.0100000e+00, -2.1938007e-17,  0.0000000e+00],\n",
       "       [-2.1938007e-17,  1.0100000e+00,  0.0000000e+00],\n",
       "       [ 0.0000000e+00,  0.0000000e+00,  1.0000000e+00]])"
      ]
     },
     "metadata": {},
     "execution_count": 20
    }
   ],
   "source": [
    "np.dot(R,R.T)"
   ]
  },
  {
   "cell_type": "code",
   "execution_count": null,
   "metadata": {},
   "outputs": [],
   "source": []
  },
  {
   "cell_type": "code",
   "execution_count": null,
   "metadata": {},
   "outputs": [],
   "source": []
  }
 ],
 "metadata": {
  "colab": {
   "collapsed_sections": [],
   "name": "exercicio01.ipynb",
   "provenance": []
  },
  "kernelspec": {
   "name": "python385jvsc74a57bd0767d51c1340bd893661ea55ea3124f6de3c7a262a8b4abca0554b478b1e2ff90",
   "display_name": "Python 3.8.5 64-bit"
  },
  "language_info": {
   "codemirror_mode": {
    "name": "ipython",
    "version": 3
   },
   "file_extension": ".py",
   "mimetype": "text/x-python",
   "name": "python",
   "nbconvert_exporter": "python",
   "pygments_lexer": "ipython3",
   "version": "3.8.5"
  }
 },
 "nbformat": 4,
 "nbformat_minor": 1
}