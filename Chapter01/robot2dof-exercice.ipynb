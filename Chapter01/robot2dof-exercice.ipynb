{
 "cells": [
  {
   "cell_type": "markdown",
   "metadata": {},
   "source": [
    "## Robo 2DOF"
   ]
  },
  {
   "cell_type": "markdown",
   "metadata": {},
   "source": [
    "```TODO```"
   ]
  },
  {
   "cell_type": "code",
   "execution_count": 1,
   "metadata": {},
   "outputs": [],
   "source": [
    "## sympy modulo para trabalhar com equações simbólicas\n",
    "from sympy import *\n",
    "import numpy as np"
   ]
  },
  {
   "cell_type": "code",
   "execution_count": 2,
   "metadata": {
    "colab": {},
    "colab_type": "code",
    "id": "G48uApSYq-wj"
   },
   "outputs": [],
   "source": [
    "# variaveis\n",
    "theta1 = Function('theta_1'); theta2 = Function('theta_2');\n",
    "t,m1,m2,L1,L2, g = symbols('t m1 m2 L_1 L_2 g')"
   ]
  },
  {
   "cell_type": "code",
   "execution_count": 3,
   "metadata": {},
   "outputs": [],
   "source": [
    "def tf_h(theta, Q):\n",
    "    tf_matrix = Matrix([[cos(theta),   sin(theta),  0,      Q[0]],\n",
    "                        [sin(theta),   cos(theta),  0,      Q[1]],\n",
    "                        [0,            0,           1,      Q[2]],\n",
    "                        [0,            0,           0,      1]])\n",
    "    return tf_matrix"
   ]
  },
  {
   "cell_type": "code",
   "execution_count": 4,
   "metadata": {},
   "outputs": [
    {
     "data": {
      "text/latex": [
       "$\\displaystyle \\left[\\begin{matrix}0\\\\L_{1}\\\\0\\\\1\\end{matrix}\\right]$"
      ],
      "text/plain": [
       "Matrix([\n",
       "[  0],\n",
       "[L_1],\n",
       "[  0],\n",
       "[  1]])"
      ]
     },
     "execution_count": 4,
     "metadata": {},
     "output_type": "execute_result"
    }
   ],
   "source": [
    "P1 = Matrix([[0, L1, 0, 1]])\n",
    "P1.T"
   ]
  },
  {
   "cell_type": "code",
   "execution_count": 5,
   "metadata": {},
   "outputs": [
    {
     "data": {
      "text/latex": [
       "$\\displaystyle \\left[\\begin{matrix}L_{1} \\sin{\\left(\\theta_{1}{\\left(t \\right)} \\right)}\\\\L_{1} \\cos{\\left(\\theta_{1}{\\left(t \\right)} \\right)}\\\\0\\\\1\\end{matrix}\\right]$"
      ],
      "text/plain": [
       "Matrix([\n",
       "[L_1*sin(theta_1(t))],\n",
       "[L_1*cos(theta_1(t))],\n",
       "[                  0],\n",
       "[                  1]])"
      ]
     },
     "execution_count": 5,
     "metadata": {},
     "output_type": "execute_result"
    }
   ],
   "source": [
    "link1 = tf_h(theta1(t), [0,0,0])*P1.T\n",
    "link1"
   ]
  },
  {
   "cell_type": "code",
   "execution_count": 7,
   "metadata": {},
   "outputs": [
    {
     "data": {
      "text/latex": [
       "$\\displaystyle \\left[\\begin{matrix}0\\\\L_{2}\\\\0\\\\1\\end{matrix}\\right]$"
      ],
      "text/plain": [
       "Matrix([\n",
       "[  0],\n",
       "[L_2],\n",
       "[  0],\n",
       "[  1]])"
      ]
     },
     "execution_count": 7,
     "metadata": {},
     "output_type": "execute_result"
    }
   ],
   "source": [
    "P2 = Matrix([[0, L2, 0, 1]])\n",
    "P2.T"
   ]
  },
  {
   "cell_type": "code",
   "execution_count": 8,
   "metadata": {},
   "outputs": [
    {
     "data": {
      "text/latex": [
       "$\\displaystyle \\left[\\begin{matrix}L_{1} \\sin{\\left(\\theta_{1}{\\left(t \\right)} \\right)} + L_{2} \\sin{\\left(\\theta_{1}{\\left(t \\right)} + \\theta_{2}{\\left(t \\right)} \\right)}\\\\L_{1} \\cos{\\left(\\theta_{1}{\\left(t \\right)} \\right)} + L_{2} \\cos{\\left(\\theta_{1}{\\left(t \\right)} + \\theta_{2}{\\left(t \\right)} \\right)}\\\\0\\\\1\\end{matrix}\\right]$"
      ],
      "text/plain": [
       "Matrix([\n",
       "[L_1*sin(theta_1(t)) + L_2*sin(theta_1(t) + theta_2(t))],\n",
       "[L_1*cos(theta_1(t)) + L_2*cos(theta_1(t) + theta_2(t))],\n",
       "[                                                     0],\n",
       "[                                                     1]])"
      ]
     },
     "execution_count": 8,
     "metadata": {},
     "output_type": "execute_result"
    }
   ],
   "source": [
    "link2 = tf_h(theta2(t)+theta1(t), [link1[0],link1[1],link1[2]])*P2.T\n",
    "link2"
   ]
  },
  {
   "cell_type": "code",
   "execution_count": 9,
   "metadata": {},
   "outputs": [
    {
     "data": {
      "text/latex": [
       "$\\displaystyle \\left[\\begin{matrix}L_{1} \\cos{\\left(\\theta_{1}{\\left(t \\right)} \\right)} \\frac{d}{d t} \\theta_{1}{\\left(t \\right)}\\\\- L_{1} \\sin{\\left(\\theta_{1}{\\left(t \\right)} \\right)} \\frac{d}{d t} \\theta_{1}{\\left(t \\right)}\\\\0\\end{matrix}\\right]$"
      ],
      "text/plain": [
       "Matrix([\n",
       "[ L_1*cos(theta_1(t))*Derivative(theta_1(t), t)],\n",
       "[-L_1*sin(theta_1(t))*Derivative(theta_1(t), t)],\n",
       "[                                             0]])"
      ]
     },
     "execution_count": 9,
     "metadata": {},
     "output_type": "execute_result"
    }
   ],
   "source": [
    "dlk1 = diff(link1[:3,:], t)\n",
    "dlk1"
   ]
  },
  {
   "cell_type": "code",
   "execution_count": 10,
   "metadata": {},
   "outputs": [
    {
     "data": {
      "text/latex": [
       "$\\displaystyle \\left[\\begin{matrix}L_{1} \\cos{\\left(\\theta_{1}{\\left(t \\right)} \\right)} \\frac{d}{d t} \\theta_{1}{\\left(t \\right)} + L_{2} \\left(\\frac{d}{d t} \\theta_{1}{\\left(t \\right)} + \\frac{d}{d t} \\theta_{2}{\\left(t \\right)}\\right) \\cos{\\left(\\theta_{1}{\\left(t \\right)} + \\theta_{2}{\\left(t \\right)} \\right)}\\\\- L_{1} \\sin{\\left(\\theta_{1}{\\left(t \\right)} \\right)} \\frac{d}{d t} \\theta_{1}{\\left(t \\right)} - L_{2} \\left(\\frac{d}{d t} \\theta_{1}{\\left(t \\right)} + \\frac{d}{d t} \\theta_{2}{\\left(t \\right)}\\right) \\sin{\\left(\\theta_{1}{\\left(t \\right)} + \\theta_{2}{\\left(t \\right)} \\right)}\\\\0\\end{matrix}\\right]$"
      ],
      "text/plain": [
       "Matrix([\n",
       "[ L_1*cos(theta_1(t))*Derivative(theta_1(t), t) + L_2*(Derivative(theta_1(t), t) + Derivative(theta_2(t), t))*cos(theta_1(t) + theta_2(t))],\n",
       "[-L_1*sin(theta_1(t))*Derivative(theta_1(t), t) - L_2*(Derivative(theta_1(t), t) + Derivative(theta_2(t), t))*sin(theta_1(t) + theta_2(t))],\n",
       "[                                                                                                                                        0]])"
      ]
     },
     "execution_count": 10,
     "metadata": {},
     "output_type": "execute_result"
    }
   ],
   "source": [
    "dlk2 = diff(link2[:3,:], t)\n",
    "dlk2"
   ]
  },
  {
   "cell_type": "markdown",
   "metadata": {},
   "source": [
    "## Energia Cinética\n",
    "\n",
    "$\n",
    "\\mathcal{T} = \\frac{1}{2} \\sum\\limits_{k=1}^{N}{\\mathbf{\\dot{q}}_k}^T  \\mathbf{M}_k {\\mathbf{\\dot{q}}_k}+ \\frac{1}{2} \\sum\\limits_{k=1}^{N}\\mathbf{\\omega}_k^T \\mathbf{J}_k \\mathbf{\\omega}_k\n",
    "$"
   ]
  },
  {
   "cell_type": "code",
   "execution_count": 13,
   "metadata": {},
   "outputs": [
    {
     "data": {
      "text/latex": [
       "$\\displaystyle 0.5 L_{1}^{2} m_{1} \\left(\\frac{d}{d t} \\theta_{1}{\\left(t \\right)}\\right)^{2}$"
      ],
      "text/plain": [
       "0.5*L_1**2*m1*Derivative(theta_1(t), t)**2"
      ]
     },
     "execution_count": 13,
     "metadata": {},
     "output_type": "execute_result"
    }
   ],
   "source": [
    "T1 = (1/2*m1*dlk1.T*dlk1)[0]\n",
    "T1 = simplify(T1)\n",
    "T1"
   ]
  },
  {
   "cell_type": "code",
   "execution_count": 14,
   "metadata": {},
   "outputs": [
    {
     "data": {
      "text/latex": [
       "$\\displaystyle 0.5 m_{2} \\left(L_{1}^{2} \\left(\\frac{d}{d t} \\theta_{1}{\\left(t \\right)}\\right)^{2} + 2 L_{1} L_{2} \\cos{\\left(\\theta_{2}{\\left(t \\right)} \\right)} \\left(\\frac{d}{d t} \\theta_{1}{\\left(t \\right)}\\right)^{2} + 2 L_{1} L_{2} \\cos{\\left(\\theta_{2}{\\left(t \\right)} \\right)} \\frac{d}{d t} \\theta_{1}{\\left(t \\right)} \\frac{d}{d t} \\theta_{2}{\\left(t \\right)} + L_{2}^{2} \\left(\\frac{d}{d t} \\theta_{1}{\\left(t \\right)}\\right)^{2} + 2 L_{2}^{2} \\frac{d}{d t} \\theta_{1}{\\left(t \\right)} \\frac{d}{d t} \\theta_{2}{\\left(t \\right)} + L_{2}^{2} \\left(\\frac{d}{d t} \\theta_{2}{\\left(t \\right)}\\right)^{2}\\right)$"
      ],
      "text/plain": [
       "0.5*m2*(L_1**2*Derivative(theta_1(t), t)**2 + 2*L_1*L_2*cos(theta_2(t))*Derivative(theta_1(t), t)**2 + 2*L_1*L_2*cos(theta_2(t))*Derivative(theta_1(t), t)*Derivative(theta_2(t), t) + L_2**2*Derivative(theta_1(t), t)**2 + 2*L_2**2*Derivative(theta_1(t), t)*Derivative(theta_2(t), t) + L_2**2*Derivative(theta_2(t), t)**2)"
      ]
     },
     "execution_count": 14,
     "metadata": {},
     "output_type": "execute_result"
    }
   ],
   "source": [
    "T2 = (1/2*m2*dlk2.T*dlk2)[0]\n",
    "T2 = simplify(T2)\n",
    "T2"
   ]
  },
  {
   "cell_type": "markdown",
   "metadata": {},
   "source": [
    "## Energia Potencial\n",
    "\n",
    "$\n",
    "\\mathcal{V} = \\sum\\limits_{k=1}^{N}\\mathbf{M}g\\Delta \\underbrace{y_k}_{\\text{altura}}\n",
    "$"
   ]
  },
  {
   "cell_type": "code",
   "execution_count": 15,
   "metadata": {},
   "outputs": [
    {
     "data": {
      "text/latex": [
       "$\\displaystyle L_{1} g \\left(m_{1} + m_{2}\\right) \\cos{\\left(\\theta_{1}{\\left(t \\right)} \\right)}$"
      ],
      "text/plain": [
       "L_1*g*(m1 + m2)*cos(theta_1(t))"
      ]
     },
     "execution_count": 15,
     "metadata": {},
     "output_type": "execute_result"
    }
   ],
   "source": [
    "V1 = (m1+m2)*g*link1[1]\n",
    "V1"
   ]
  },
  {
   "cell_type": "code",
   "execution_count": 16,
   "metadata": {},
   "outputs": [
    {
     "data": {
      "text/latex": [
       "$\\displaystyle g m_{2} \\left(L_{1} \\cos{\\left(\\theta_{1}{\\left(t \\right)} \\right)} + L_{2} \\cos{\\left(\\theta_{1}{\\left(t \\right)} + \\theta_{2}{\\left(t \\right)} \\right)}\\right)$"
      ],
      "text/plain": [
       "g*m2*(L_1*cos(theta_1(t)) + L_2*cos(theta_1(t) + theta_2(t)))"
      ]
     },
     "execution_count": 16,
     "metadata": {},
     "output_type": "execute_result"
    }
   ],
   "source": [
    "V2 =m2*g*link2[1]\n",
    "V2"
   ]
  },
  {
   "cell_type": "code",
   "execution_count": 17,
   "metadata": {},
   "outputs": [
    {
     "data": {
      "text/latex": [
       "$\\displaystyle 0.5 L_{1}^{2} m_{1} \\left(\\frac{d}{d t} \\theta_{1}{\\left(t \\right)}\\right)^{2} + L_{1} g \\left(m_{1} + m_{2}\\right) \\cos{\\left(\\theta_{1}{\\left(t \\right)} \\right)} + g m_{2} \\left(L_{1} \\cos{\\left(\\theta_{1}{\\left(t \\right)} \\right)} + L_{2} \\cos{\\left(\\theta_{1}{\\left(t \\right)} + \\theta_{2}{\\left(t \\right)} \\right)}\\right) + 0.5 m_{2} \\left(L_{1}^{2} \\left(\\frac{d}{d t} \\theta_{1}{\\left(t \\right)}\\right)^{2} + 2 L_{1} L_{2} \\cos{\\left(\\theta_{2}{\\left(t \\right)} \\right)} \\left(\\frac{d}{d t} \\theta_{1}{\\left(t \\right)}\\right)^{2} + 2 L_{1} L_{2} \\cos{\\left(\\theta_{2}{\\left(t \\right)} \\right)} \\frac{d}{d t} \\theta_{1}{\\left(t \\right)} \\frac{d}{d t} \\theta_{2}{\\left(t \\right)} + L_{2}^{2} \\left(\\frac{d}{d t} \\theta_{1}{\\left(t \\right)}\\right)^{2} + 2 L_{2}^{2} \\frac{d}{d t} \\theta_{1}{\\left(t \\right)} \\frac{d}{d t} \\theta_{2}{\\left(t \\right)} + L_{2}^{2} \\left(\\frac{d}{d t} \\theta_{2}{\\left(t \\right)}\\right)^{2}\\right)$"
      ],
      "text/plain": [
       "0.5*L_1**2*m1*Derivative(theta_1(t), t)**2 + L_1*g*(m1 + m2)*cos(theta_1(t)) + g*m2*(L_1*cos(theta_1(t)) + L_2*cos(theta_1(t) + theta_2(t))) + 0.5*m2*(L_1**2*Derivative(theta_1(t), t)**2 + 2*L_1*L_2*cos(theta_2(t))*Derivative(theta_1(t), t)**2 + 2*L_1*L_2*cos(theta_2(t))*Derivative(theta_1(t), t)*Derivative(theta_2(t), t) + L_2**2*Derivative(theta_1(t), t)**2 + 2*L_2**2*Derivative(theta_1(t), t)*Derivative(theta_2(t), t) + L_2**2*Derivative(theta_2(t), t)**2)"
      ]
     },
     "execution_count": 17,
     "metadata": {},
     "output_type": "execute_result"
    }
   ],
   "source": [
    "L = (T1+T2) + (V1+V2)\n",
    "L"
   ]
  },
  {
   "cell_type": "code",
   "execution_count": 18,
   "metadata": {},
   "outputs": [],
   "source": [
    "dtheta1 = diff(theta1(t), t)\n",
    "ddtheta1 = diff(diff(theta1(t), t),t)\n",
    "dtheta2 = diff(theta2(t), t)\n",
    "ddtheta2 = diff(diff(theta2(t), t),t)\n"
   ]
  },
  {
   "cell_type": "markdown",
   "metadata": {},
   "source": [
    "## Aplicando a equação de Lagrange\n",
    "\n",
    "$\n",
    "\\newcommand{\\df}[1]{\\,\\mathrm{d}#1}\n",
    "\\newcommand{\\parcial}[3]{\\dfrac{\\partial^{#1}#2}{\\partial #3^{#1}}}\n",
    "\\frac{d}{\\df{t}}\\left( \\parcial{}{\\mathcal{L}}{\\dot{q}_k}\\right)\n",
    "-\\parcial{}{\\mathcal{L}}{q_k}\n",
    "= f_k, \\quad k = 1,2,...,n\n",
    "$"
   ]
  },
  {
   "cell_type": "markdown",
   "metadata": {},
   "source": [
    "### Para $k=1$"
   ]
  },
  {
   "cell_type": "code",
   "execution_count": null,
   "metadata": {},
   "outputs": [],
   "source": [
    "# Completar com a equacao acima"
   ]
  },
  {
   "cell_type": "code",
   "execution_count": 19,
   "metadata": {},
   "outputs": [
    {
     "data": {
      "text/latex": [
       "$\\displaystyle 1.0 L_{1}^{2} m_{1} \\frac{d^{2}}{d t^{2}} \\theta_{1}{\\left(t \\right)} + L_{1} g \\left(m_{1} + m_{2}\\right) \\sin{\\left(\\theta_{1}{\\left(t \\right)} \\right)} + g m_{2} \\left(L_{1} \\sin{\\left(\\theta_{1}{\\left(t \\right)} \\right)} + L_{2} \\sin{\\left(\\theta_{1}{\\left(t \\right)} + \\theta_{2}{\\left(t \\right)} \\right)}\\right) + m_{2} \\left(- 2 L_{1} L_{2} \\sin{\\left(\\theta_{2}{\\left(t \\right)} \\right)} \\frac{d}{d t} \\theta_{1}{\\left(t \\right)} \\frac{d}{d t} \\theta_{2}{\\left(t \\right)} - L_{1} L_{2} \\sin{\\left(\\theta_{2}{\\left(t \\right)} \\right)} \\left(\\frac{d}{d t} \\theta_{2}{\\left(t \\right)}\\right)^{2} + \\left(L_{1} L_{2} \\cos{\\left(\\theta_{2}{\\left(t \\right)} \\right)} + L_{2}^{2}\\right) \\frac{d^{2}}{d t^{2}} \\theta_{2}{\\left(t \\right)} + \\left(L_{1}^{2} + 2 L_{1} L_{2} \\cos{\\left(\\theta_{2}{\\left(t \\right)} \\right)} + L_{2}^{2}\\right) \\frac{d^{2}}{d t^{2}} \\theta_{1}{\\left(t \\right)}\\right)$"
      ],
      "text/plain": [
       "1.0*L_1**2*m1*Derivative(theta_1(t), (t, 2)) + L_1*g*(m1 + m2)*sin(theta_1(t)) + g*m2*(L_1*sin(theta_1(t)) + L_2*sin(theta_1(t) + theta_2(t))) + m2*(-2*L_1*L_2*sin(theta_2(t))*Derivative(theta_1(t), t)*Derivative(theta_2(t), t) - L_1*L_2*sin(theta_2(t))*Derivative(theta_2(t), t)**2 + (L_1*L_2*cos(theta_2(t)) + L_2**2)*Derivative(theta_2(t), (t, 2)) + (L_1**2 + 2*L_1*L_2*cos(theta_2(t)) + L_2**2)*Derivative(theta_1(t), (t, 2)))"
      ]
     },
     "execution_count": 19,
     "metadata": {},
     "output_type": "execute_result"
    }
   ],
   "source": [
    "# dica collect(LAGRANGIAN_q1, [ddtheta1, ddtheta2])"
   ]
  },
  {
   "cell_type": "code",
   "execution_count": null,
   "metadata": {},
   "outputs": [],
   "source": []
  },
  {
   "cell_type": "code",
   "execution_count": null,
   "metadata": {},
   "outputs": [],
   "source": []
  },
  {
   "cell_type": "markdown",
   "metadata": {},
   "source": [
    "# Montando as Matrizes"
   ]
  },
  {
   "cell_type": "code",
   "execution_count": 27,
   "metadata": {},
   "outputs": [
    {
     "data": {
      "text/latex": [
       "$\\displaystyle L_{1}^{2} \\left(m_{1} + m_{2}\\right) + 2 L_{1} L_{2} m_{2} \\cos{\\left(\\theta_{2}{\\left(t \\right)} \\right)} + L_{2}^{2} m_{2}$"
      ],
      "text/plain": [
       "L_1**2*(m1 + m2) + 2*L_1*L_2*m2*cos(theta_2(t)) + L_2**2*m2"
      ]
     },
     "execution_count": 27,
     "metadata": {},
     "output_type": "execute_result"
    }
   ],
   "source": [
    "M11 = (m1+m2)*L1**2 + L2**2 * m2 +2*L1*L2*m2*cos(theta2(t))\n",
    "M11 "
   ]
  },
  {
   "cell_type": "code",
   "execution_count": 28,
   "metadata": {},
   "outputs": [
    {
     "data": {
      "text/latex": [
       "$\\displaystyle L_{1} L_{2} m_{2} \\cos{\\left(\\theta_{2}{\\left(t \\right)} \\right)} + L_{2}^{2} m_{2}$"
      ],
      "text/plain": [
       "L_1*L_2*m2*cos(theta_2(t)) + L_2**2*m2"
      ]
     },
     "execution_count": 28,
     "metadata": {},
     "output_type": "execute_result"
    }
   ],
   "source": [
    "M12 = L1*L2*m2*cos(theta2(t)) + L2**2*m2\n",
    "M12"
   ]
  },
  {
   "cell_type": "markdown",
   "metadata": {},
   "source": [
    "### Para $k=2$"
   ]
  },
  {
   "cell_type": "code",
   "execution_count": null,
   "metadata": {},
   "outputs": [],
   "source": []
  },
  {
   "cell_type": "code",
   "execution_count": 24,
   "metadata": {},
   "outputs": [
    {
     "data": {
      "text/latex": [
       "$\\displaystyle L_{2} m_{2} \\left(L_{1} \\sin{\\left(\\theta_{2}{\\left(t \\right)} \\right)} \\left(\\frac{d}{d t} \\theta_{1}{\\left(t \\right)}\\right)^{2} + L_{2} \\frac{d^{2}}{d t^{2}} \\theta_{2}{\\left(t \\right)} + g \\sin{\\left(\\theta_{1}{\\left(t \\right)} + \\theta_{2}{\\left(t \\right)} \\right)} + \\left(L_{1} \\cos{\\left(\\theta_{2}{\\left(t \\right)} \\right)} + L_{2}\\right) \\frac{d^{2}}{d t^{2}} \\theta_{1}{\\left(t \\right)}\\right)$"
      ],
      "text/plain": [
       "L_2*m2*(L_1*sin(theta_2(t))*Derivative(theta_1(t), t)**2 + L_2*Derivative(theta_2(t), (t, 2)) + g*sin(theta_1(t) + theta_2(t)) + (L_1*cos(theta_2(t)) + L_2)*Derivative(theta_1(t), (t, 2)))"
      ]
     },
     "execution_count": 24,
     "metadata": {},
     "output_type": "execute_result"
    }
   ],
   "source": [
    "# dica collect(LAGRANGIAN_q2, [ddtheta1, ddtheta2])"
   ]
  },
  {
   "cell_type": "code",
   "execution_count": 29,
   "metadata": {},
   "outputs": [
    {
     "data": {
      "text/latex": [
       "$\\displaystyle L_{1} L_{2} m_{2} \\cos{\\left(\\theta_{2}{\\left(t \\right)} \\right)} + L_{2}^{2} m_{2}$"
      ],
      "text/plain": [
       "L_1*L_2*m2*cos(theta_2(t)) + L_2**2*m2"
      ]
     },
     "execution_count": 29,
     "metadata": {},
     "output_type": "execute_result"
    }
   ],
   "source": [
    "M21 = L2*L1*m2*cos(theta2(t)) + L2**2*m2\n",
    "M21"
   ]
  },
  {
   "cell_type": "code",
   "execution_count": 30,
   "metadata": {},
   "outputs": [
    {
     "data": {
      "text/latex": [
       "$\\displaystyle L_{1} L_{2} m_{2} \\cos{\\left(\\theta_{2}{\\left(t \\right)} \\right)} + L_{2}^{2} m_{2}$"
      ],
      "text/plain": [
       "L_1*L_2*m2*cos(theta_2(t)) + L_2**2*m2"
      ]
     },
     "execution_count": 30,
     "metadata": {},
     "output_type": "execute_result"
    }
   ],
   "source": [
    "M21 = L2*L1*m2*cos(theta2(t)) + L2**2*m2\n",
    "M21"
   ]
  },
  {
   "cell_type": "code",
   "execution_count": 31,
   "metadata": {},
   "outputs": [
    {
     "data": {
      "text/latex": [
       "$\\displaystyle L_{2}^{2} m_{2}$"
      ],
      "text/plain": [
       "L_2**2*m2"
      ]
     },
     "execution_count": 31,
     "metadata": {},
     "output_type": "execute_result"
    }
   ],
   "source": [
    "M22 = L2**2*m2\n",
    "M22"
   ]
  },
  {
   "cell_type": "code",
   "execution_count": 32,
   "metadata": {},
   "outputs": [
    {
     "data": {
      "text/latex": [
       "$\\displaystyle \\left[\\begin{matrix}L_{1}^{2} \\left(m_{1} + m_{2}\\right) + 2 L_{1} L_{2} m_{2} \\cos{\\left(\\theta_{2}{\\left(t \\right)} \\right)} + L_{2}^{2} m_{2} & L_{1} L_{2} m_{2} \\cos{\\left(\\theta_{2}{\\left(t \\right)} \\right)} + L_{2}^{2} m_{2}\\\\L_{1} L_{2} m_{2} \\cos{\\left(\\theta_{2}{\\left(t \\right)} \\right)} + L_{2}^{2} m_{2} & L_{2}^{2} m_{2}\\end{matrix}\\right]$"
      ],
      "text/plain": [
       "Matrix([\n",
       "[L_1**2*(m1 + m2) + 2*L_1*L_2*m2*cos(theta_2(t)) + L_2**2*m2, L_1*L_2*m2*cos(theta_2(t)) + L_2**2*m2],\n",
       "[                     L_1*L_2*m2*cos(theta_2(t)) + L_2**2*m2,                              L_2**2*m2]])"
      ]
     },
     "execution_count": 32,
     "metadata": {},
     "output_type": "execute_result"
    }
   ],
   "source": [
    "M = Matrix([[M11,M12],[M21, M22]])\n",
    "M"
   ]
  },
  {
   "cell_type": "code",
   "execution_count": null,
   "metadata": {},
   "outputs": [],
   "source": []
  },
  {
   "cell_type": "markdown",
   "metadata": {},
   "source": [
    "### Encontrar as outras matrizes!"
   ]
  },
  {
   "cell_type": "code",
   "execution_count": null,
   "metadata": {},
   "outputs": [],
   "source": [
    "# Cq ?"
   ]
  },
  {
   "cell_type": "code",
   "execution_count": null,
   "metadata": {},
   "outputs": [],
   "source": [
    "# Gq=?"
   ]
  },
  {
   "cell_type": "code",
   "execution_count": null,
   "metadata": {},
   "outputs": [],
   "source": []
  }
 ],
 "metadata": {
  "colab": {
   "collapsed_sections": [],
   "name": "exercicio01.ipynb",
   "provenance": []
  },
  "kernelspec": {
   "display_name": "Python 3",
   "language": "python",
   "name": "python3"
  },
  "language_info": {
   "codemirror_mode": {
    "name": "ipython",
    "version": 3
   },
   "file_extension": ".py",
   "mimetype": "text/x-python",
   "name": "python",
   "nbconvert_exporter": "python",
   "pygments_lexer": "ipython3",
   "version": "3.6.9"
  }
 },
 "nbformat": 4,
 "nbformat_minor": 1
}
