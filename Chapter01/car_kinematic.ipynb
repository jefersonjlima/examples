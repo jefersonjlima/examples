{
 "cells": [
  {
   "cell_type": "code",
   "execution_count": 3,
   "metadata": {},
   "outputs": [],
   "source": [
    "import numpy as np\n",
    "from scipy.integrate import odeint\n",
    "import matplotlib.pyplot as plt"
   ]
  },
  {
   "cell_type": "code",
   "execution_count": 9,
   "metadata": {},
   "outputs": [],
   "source": [
    "def car (y,t):\n",
    "    \n",
    "    v = 0.5\n",
    "    omega = -0.1\n",
    "    theta = y[2]\n",
    "\n",
    "    # model\n",
    "    dy = np.dot(np.array([[np.cos(theta), 0],\n",
    "                            [np.sin(theta), 0],\n",
    "                            [0, 1]]), np.array([[v],[omega]]))\n",
    "    return dy.flatten()"
   ]
  },
  {
   "cell_type": "code",
   "execution_count": 10,
   "metadata": {},
   "outputs": [],
   "source": [
    "t = np.linspace(0,20, 100)\n",
    "y0 = [0,0,0]\n",
    "out = odeint(car, y0, t)"
   ]
  },
  {
   "cell_type": "code",
   "execution_count": 11,
   "metadata": {},
   "outputs": [
    {
     "data": {
      "text/plain": [
       "<matplotlib.legend.Legend at 0x7fc269562b20>"
      ]
     },
     "execution_count": 11,
     "metadata": {},
     "output_type": "execute_result"
    },
    {
     "data": {
      "image/png": "[encoded data removed]",
      "text/plain": [
       "<Figure size 432x288 with 1 Axes>"
      ]
     },
     "metadata": {
      "needs_background": "light"
     },
     "output_type": "display_data"
    }
   ],
   "source": [
    "plt.plot(out[:,0], out[:,1])\n",
    "plt.plot(out[0,0], out[0,1], 'o')\n",
    "plt.plot(out[-1,0], out[-1,1], 'x')\n",
    "plt.legend(['desl', 'inicio', 'fim'])"
   ]
  },
  {
   "cell_type": "code",
   "execution_count": 12,
   "metadata": {},
   "outputs": [],
   "source": [
    "def car (y,t):\n",
    "    \n",
    "    v = 0.5\n",
    "    theta = y[2]\n",
    "    if y[0] > 0:\n",
    "        omega = 0.2*np.pi\n",
    "    else:\n",
    "        omega = -0.2*np.pi\n",
    "    \n",
    "    # model\n",
    "    dy = np.dot(np.array([[np.cos(theta), 0],\n",
    "                            [np.sin(theta), 0],\n",
    "                            [0, 1]]), np.array([[v],[omega]]))\n",
    "    return dy.flatten()"
   ]
  },
  {
   "cell_type": "code",
   "execution_count": 13,
   "metadata": {},
   "outputs": [],
   "source": [
    "t = np.linspace(0,20, 100)\n",
    "y0 = [0,0,0]\n",
    "out = odeint(car, y0, t)"
   ]
  },
  {
   "cell_type": "code",
   "execution_count": 14,
   "metadata": {},
   "outputs": [
    {
     "data": {
      "text/plain": [
       "<matplotlib.legend.Legend at 0x7fc269c48df0>"
      ]
     },
     "execution_count": 14,
     "metadata": {},
     "output_type": "execute_result"
    },
    {
     "data": {
      "image/png": "[encoded data removed]",
      "text/plain": [
       "<Figure size 432x288 with 1 Axes>"
      ]
     },
     "metadata": {
      "needs_background": "light"
     },
     "output_type": "display_data"
    }
   ],
   "source": [
    "plt.plot(out[:,0], out[:,1])\n",
    "plt.plot(out[0,0], out[0,1], 'o')\n",
    "plt.plot(out[-1,0], out[-1,1], 'x')\n",
    "plt.legend(['desl', 'inicio', 'fim'])"
   ]
  },
  {
   "cell_type": "code",
   "execution_count": null,
   "metadata": {},
   "outputs": [],
   "source": []
  },
  {
   "cell_type": "code",
   "execution_count": 40,
   "metadata": {},
   "outputs": [],
   "source": [
    "global task\n",
    "task = 0\n",
    "def car_controller (y,t):\n",
    "    global task\n",
    "    theta = y[2]\n",
    "    if task == 0:\n",
    "        posRef = [-2,-2]\n",
    "    else:\n",
    "        posRef = [2,2]\n",
    "\n",
    "    phi = np.arctan2(posRef[1]-y[1],posRef[0]-y[0] )\n",
    "    Ref = np.array([posRef[0], posRef[1], phi])\n",
    "    e =  Ref - y\n",
    "    \n",
    "    if np.sqrt(e[0]**2 + e[1]**2) < 0.01:\n",
    "        task = 1\n",
    "\n",
    "    v = 0.3*np.sqrt(e[0]**2 + e[1]**2)\n",
    "    alpha = 0.2*e[2]\n",
    "    omega = v/0.1*np.tan(alpha)\n",
    "    \n",
    "    # Physical constraints\n",
    "    if abs(alpha)> np.pi/4:\n",
    "        np.pi/4*np.sign(alpha)\n",
    "    if abs(v)>0.8:\n",
    "        v = 0.8*np.sign(v)\n",
    "\n",
    "    # model\n",
    "    dy = np.dot(np.array([[np.cos(theta), 0],\n",
    "                            [np.sin(theta), 0],\n",
    "                            [0, 1]]), np.array([[v],[omega]]))\n",
    "    return dy.flatten()"
   ]
  },
  {
   "cell_type": "code",
   "execution_count": 41,
   "metadata": {},
   "outputs": [],
   "source": [
    "t = np.linspace(0,30, 1000)\n",
    "y0 = [1,0,np.pi]\n",
    "out = odeint(car_controller, y0, t)"
   ]
  },
  {
   "cell_type": "code",
   "execution_count": 42,
   "metadata": {},
   "outputs": [
    {
     "data": {
      "text/plain": [
       "<matplotlib.legend.Legend at 0x7fc2690a3f10>"
      ]
     },
     "execution_count": 42,
     "metadata": {},
     "output_type": "execute_result"
    },
    {
     "data": {
      "image/png": "[encoded data removed]",
      "text/plain": [
       "<Figure size 432x288 with 1 Axes>"
      ]
     },
     "metadata": {
      "needs_background": "light"
     },
     "output_type": "display_data"
    }
   ],
   "source": [
    "plt.plot(out[:,0], out[:,1])\n",
    "plt.plot(out[0,0], out[0,1], 'o')\n",
    "plt.plot(out[-1,0], out[-1,1], 'x')\n",
    "plt.legend(['desl', 'inicio', 'fim'])"
   ]
  },
  {
   "cell_type": "code",
   "execution_count": 105,
   "metadata": {},
   "outputs": [
    {
     "data": {
      "text/plain": [
       "1"
      ]
     },
     "execution_count": 105,
     "metadata": {},
     "output_type": "execute_result"
    }
   ],
   "source": [
    "task"
   ]
  },
  {
   "cell_type": "code",
   "execution_count": null,
   "metadata": {},
   "outputs": [],
   "source": []
  }
 ],
 "metadata": {
  "kernelspec": {
   "display_name": "Python 3",
   "language": "python",
   "name": "python3"
  },
  "language_info": {
   "codemirror_mode": {
    "name": "ipython",
    "version": 3
   },
   "file_extension": ".py",
   "mimetype": "text/x-python",
   "name": "python",
   "nbconvert_exporter": "python",
   "pygments_lexer": "ipython3",
   "version": "3.8.2"
  }
 },
 "nbformat": 4,
 "nbformat_minor": 4
}
