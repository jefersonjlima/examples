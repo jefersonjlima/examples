{
  "nbformat": 4,
  "nbformat_minor": 0,
  "metadata": {
    "colab": {
      "name": "car_dynamic.ipynb",
      "provenance": [],
      "collapsed_sections": [],
      "include_colab_link": true
    },
    "kernelspec": {
      "display_name": "Python 3",
      "language": "python",
      "name": "python3"
    },
    "language_info": {
      "codemirror_mode": {
        "name": "ipython",
        "version": 3
      },
      "file_extension": ".py",
      "mimetype": "text/x-python",
      "name": "python",
      "nbconvert_exporter": "python",
      "pygments_lexer": "ipython3",
      "version": "3.8.2"
    }
  },
  "cells": [
    {
      "cell_type": "markdown",
      "metadata": {
        "id": "view-in-github",
        "colab_type": "text"
      },
      "source": [
      ""
      ]
    },
    {
      "cell_type": "markdown",
      "metadata": {
        "id": "BusXat7vuroc"
      },
      "source": [
        "## Robo Diferencial - Equações de Dinâmica"
      ]
    },
    {
      "cell_type": "markdown",
      "metadata": {
        "id": "R8PgimiFurop"
      },
      "source": [
        "```TODO```"
      ]
    },
    {
      "cell_type": "markdown",
      "metadata": {
        "id": "mNXYqR7euroq"
      },
      "source": [
        "![](https://github.com/jefersonjlima/mobile_robots_examples/images/ex1_robot.png?raw=1)"
      ]
    },
    {
      "cell_type": "code",
      "metadata": {
        "id": "m5HTHBDfuroq"
      },
      "source": [
        "## sympy modulo para trabalhar com equações simbólicas\n",
        "from sympy import *\n",
        "import numpy as np"
      ],
      "execution_count": null,
      "outputs": []
    },
    {
      "cell_type": "code",
      "metadata": {
        "id": "G48uApSYq-wj"
      },
      "source": [
        "# variaveis\n",
        "x = Function('x'); y = Function('y'); phi = Function('phi');\n",
        "t,m,J,Lbd,Fx,Fy,N,L,r,tau_l,tau_r,v,omega = symbols('t m J lambda F_x F_y N L r tau_l tau_r v omega')"
      ],
      "execution_count": null,
      "outputs": []
    },
    {
      "cell_type": "markdown",
      "metadata": {
        "id": "FpXh80TMuror"
      },
      "source": [
        "### Modelo Cinemático"
      ]
    },
    {
      "cell_type": "markdown",
      "metadata": {
        "id": "y468Hquiuros"
      },
      "source": [
        "$\\begin{bmatrix}\\dot{x} \\\\ \\dot{y} \\\\ \\dot{\\phi}\\end{bmatrix} = \n",
        "\\begin{bmatrix}\\cos(\\phi) & 0 \\\\ \\sin(\\phi) & 0 \\\\ 0 & 1 \\end{bmatrix}\n",
        "\\begin{bmatrix}v \\\\ \\omega \\end{bmatrix}$ \n",
        "\n",
        "ou \n",
        "\n",
        "$\\mathbf{\\dot{q}}= \\mathbf{S}(q)\\mathbf{v}$\n",
        "\n",
        "Restrições de Movimento\n",
        "\n",
        "$\\mathbf{A}(q) = [- \\sin(\\phi) \\quad \\cos(\\phi) \\quad 0]$\n"
      ]
    },
    {
      "cell_type": "code",
      "metadata": {
        "id": "bRik0VTEurot",
        "outputId": "adf569e2-163d-415c-d963-f1946768d8d3"
      },
      "source": [
        "S = Matrix([[cos(phi(t)), 0],[sin(phi(t)), 0],[0, 1]])\n",
        "S"
      ],
      "execution_count": null,
      "outputs": [
        {
          "output_type": "execute_result",
          "data": {
            "text/latex": "$\\displaystyle \\left[\\begin{matrix}\\cos{\\left(\\phi{\\left(t \\right)} \\right)} & 0\\\\\\sin{\\left(\\phi{\\left(t \\right)} \\right)} & 0\\\\0 & 1\\end{matrix}\\right]$",
            "text/plain": [
              "Matrix([\n",
              "[cos(phi(t)), 0],\n",
              "[sin(phi(t)), 0],\n",
              "[          0, 1]])"
            ]
          },
          "metadata": {
            "tags": []
          },
          "execution_count": 4
        }
      ]
    },
    {
      "cell_type": "code",
      "metadata": {
        "id": "vEiZmfiNurou",
        "outputId": "2355d5e9-2cda-4850-9c5a-168965112cef"
      },
      "source": [
        "v_matrix = Matrix([[v],[omega]])\n",
        "v_matrix"
      ],
      "execution_count": null,
      "outputs": [
        {
          "output_type": "execute_result",
          "data": {
            "text/latex": "$\\displaystyle \\left[\\begin{matrix}v\\\\\\omega\\end{matrix}\\right]$",
            "text/plain": [
              "Matrix([\n",
              "[    v],\n",
              "[omega]])"
            ]
          },
          "metadata": {
            "tags": []
          },
          "execution_count": 5
        }
      ]
    },
    {
      "cell_type": "code",
      "metadata": {
        "id": "Cacx1Fc3urov"
      },
      "source": [
        "A = Matrix([[-sin(phi(t)), cos(phi(t)), 0]])"
      ],
      "execution_count": null,
      "outputs": []
    },
    {
      "cell_type": "markdown",
      "metadata": {
        "id": "xllQyZLourov"
      },
      "source": [
        "### Começando pela equação de lagrange\n",
        "\n",
        "$\\frac{d}{\\mathrm{d}t}\\left(\n",
        "\\dfrac{\\partial\\mathcal{L}}{\\partial\\dot{q}_k}\\right)\n",
        "-\\dfrac{\\partial\\mathcal{L}}{\\partial q_k}\n",
        "+\\tau_{d_k}\n",
        "= f_k - \\sum\\limits^{m}_{j=1}\\lambda_j a_{jk}$"
      ]
    },
    {
      "cell_type": "markdown",
      "metadata": {
        "id": "cYguuFzRurov"
      },
      "source": [
        "### Definindo a função $\\mathcal{L}$\n",
        "$\\mathcal{L} = \\mathcal{T} - \\mathcal{V}$"
      ]
    },
    {
      "cell_type": "code",
      "metadata": {
        "id": "wOUEXk7nurow"
      },
      "source": [
        "L_functional = 1/2*m*(diff(x(t),t)**2+ diff(y(t),t)**2) + 1/2*J*diff(phi(t),t)**2"
      ],
      "execution_count": null,
      "outputs": []
    },
    {
      "cell_type": "code",
      "metadata": {
        "id": "7Tqilwl7urow",
        "outputId": "3ce342da-53cf-40c7-b63a-8b7212ab1492"
      },
      "source": [
        "L_functional"
      ],
      "execution_count": null,
      "outputs": [
        {
          "output_type": "execute_result",
          "data": {
            "text/latex": "$\\displaystyle 0.5 J \\left(\\frac{d}{d t} \\phi{\\left(t \\right)}\\right)^{2} + 0.5 m \\left(\\left(\\frac{d}{d t} x{\\left(t \\right)}\\right)^{2} + \\left(\\frac{d}{d t} y{\\left(t \\right)}\\right)^{2}\\right)$",
            "text/plain": [
              "0.5*J*Derivative(phi(t), t)**2 + 0.5*m*(Derivative(x(t), t)**2 + Derivative(y(t), t)**2)"
            ]
          },
          "metadata": {
            "tags": []
          },
          "execution_count": 8
        }
      ]
    },
    {
      "cell_type": "code",
      "metadata": {
        "id": "o7ozSmn9urox",
        "outputId": "9c0065db-d396-4862-f3dd-b861f21eba9d"
      },
      "source": [
        "dq1 = diff( diff(L_functional, diff(x(t),t)) ,t)\n",
        "dq1"
      ],
      "execution_count": null,
      "outputs": [
        {
          "output_type": "execute_result",
          "data": {
            "text/latex": "$\\displaystyle 1.0 m \\frac{d^{2}}{d t^{2}} x{\\left(t \\right)}$",
            "text/plain": [
              "1.0*m*Derivative(x(t), (t, 2))"
            ]
          },
          "metadata": {
            "tags": []
          },
          "execution_count": 9
        }
      ]
    },
    {
      "cell_type": "code",
      "metadata": {
        "id": "UWx6sHWgurox",
        "outputId": "55d94a04-9cb7-42b4-e29c-cb7dcac112ac"
      },
      "source": [
        "dq2 = diff( diff(L_functional, diff(y(t),t)) ,t)\n",
        "dq2"
      ],
      "execution_count": null,
      "outputs": [
        {
          "output_type": "execute_result",
          "data": {
            "text/latex": "$\\displaystyle 1.0 m \\frac{d^{2}}{d t^{2}} y{\\left(t \\right)}$",
            "text/plain": [
              "1.0*m*Derivative(y(t), (t, 2))"
            ]
          },
          "metadata": {
            "tags": []
          },
          "execution_count": 10
        }
      ]
    },
    {
      "cell_type": "code",
      "metadata": {
        "id": "eDr-t98xuroy",
        "outputId": "874b76b8-a46e-46b2-8f0e-d73c6a546632"
      },
      "source": [
        "dq3 = diff( diff(L_functional, diff(phi(t),t)) ,t)\n",
        "dq3"
      ],
      "execution_count": null,
      "outputs": [
        {
          "output_type": "execute_result",
          "data": {
            "text/latex": "$\\displaystyle 1.0 J \\frac{d^{2}}{d t^{2}} \\phi{\\left(t \\right)}$",
            "text/plain": [
              "1.0*J*Derivative(phi(t), (t, 2))"
            ]
          },
          "metadata": {
            "tags": []
          },
          "execution_count": 11
        }
      ]
    },
    {
      "cell_type": "code",
      "metadata": {
        "id": "7F8mg-oKuroy",
        "outputId": "40e8d36d-b994-4a75-9483-13d72f7fa22b"
      },
      "source": [
        "q1 = diff(L_functional, x(t))\n",
        "q1"
      ],
      "execution_count": null,
      "outputs": [
        {
          "output_type": "execute_result",
          "data": {
            "text/latex": "$\\displaystyle 0$",
            "text/plain": [
              "0"
            ]
          },
          "metadata": {
            "tags": []
          },
          "execution_count": 12
        }
      ]
    },
    {
      "cell_type": "code",
      "metadata": {
        "id": "5IYFG4Tmuroy",
        "outputId": "0a1b3782-f1b0-42d0-ad0c-fd4be07f5128"
      },
      "source": [
        "q2 = diff(L_functional, y(t))\n",
        "q2"
      ],
      "execution_count": null,
      "outputs": [
        {
          "output_type": "execute_result",
          "data": {
            "text/latex": "$\\displaystyle 0$",
            "text/plain": [
              "0"
            ]
          },
          "metadata": {
            "tags": []
          },
          "execution_count": 13
        }
      ]
    },
    {
      "cell_type": "code",
      "metadata": {
        "id": "FD30z4juuroz",
        "outputId": "6b6ce882-6c6b-411b-b36a-0553d1202b54"
      },
      "source": [
        "q3 = diff(L_functional, phi(t))\n",
        "q3"
      ],
      "execution_count": null,
      "outputs": [
        {
          "output_type": "execute_result",
          "data": {
            "text/latex": "$\\displaystyle 0$",
            "text/plain": [
              "0"
            ]
          },
          "metadata": {
            "tags": []
          },
          "execution_count": 14
        }
      ]
    },
    {
      "cell_type": "code",
      "metadata": {
        "id": "Zn2Wya8Furoz",
        "outputId": "9cb9f7f9-4206-4978-abca-decdf2f04c25"
      },
      "source": [
        "## N torque\n",
        "Eq(J*diff(diff(phi(t),t),t),N)"
      ],
      "execution_count": null,
      "outputs": [
        {
          "output_type": "execute_result",
          "data": {
            "text/latex": "$\\displaystyle J \\frac{d^{2}}{d t^{2}} \\phi{\\left(t \\right)} = N$",
            "text/plain": [
              "Eq(J*Derivative(phi(t), (t, 2)), N)"
            ]
          },
          "metadata": {
            "tags": []
          },
          "execution_count": 15
        }
      ]
    },
    {
      "cell_type": "code",
      "metadata": {
        "id": "4iAPVOnZuro0",
        "outputId": "051028ea-9aa8-425d-981f-d3bed9ddd606"
      },
      "source": [
        "# Matriz \n",
        "M_matrix = Matrix([[m, 0, 0],[0, m , 0],[0, 0, J]])\n",
        "M_matrix"
      ],
      "execution_count": null,
      "outputs": [
        {
          "output_type": "execute_result",
          "data": {
            "text/latex": "$\\displaystyle \\left[\\begin{matrix}m & 0 & 0\\\\0 & m & 0\\\\0 & 0 & J\\end{matrix}\\right]$",
            "text/plain": [
              "Matrix([\n",
              "[m, 0, 0],\n",
              "[0, m, 0],\n",
              "[0, 0, J]])"
            ]
          },
          "metadata": {
            "tags": []
          },
          "execution_count": 16
        }
      ]
    },
    {
      "cell_type": "markdown",
      "metadata": {
        "id": "-TM3YFFnuro1"
      },
      "source": [
        "### Matriz das Forças generalizadas ( $f_k$)\n",
        "\n",
        "$F = F_r + F_l$\n",
        "\n",
        "$\\tau_r = rF_r$ e $\\tau_l = rF_l$\n",
        "\n",
        "temos\n",
        "\n",
        "$F = \\frac{1}{r}(\\tau_l + \\tau_r)$\n",
        "\n",
        "sendo\n",
        "\n",
        "$F_x = \\frac{1}{r}(\\tau_l + \\tau_r)\\cos(\\phi)$\n",
        "\n",
        "e\n",
        "\n",
        "$F_y = \\frac{1}{r}(\\tau_l + \\tau_r)\\sin(\\phi)$"
      ]
    },
    {
      "cell_type": "code",
      "metadata": {
        "id": "L6PINM32uro1"
      },
      "source": [
        ""
      ],
      "execution_count": null,
      "outputs": []
    },
    {
      "cell_type": "code",
      "metadata": {
        "id": "lC0zBfKXuro2",
        "outputId": "19ea5af1-087c-44b8-cd2e-5a042393f20a"
      },
      "source": [
        "E = 1/r*Matrix([[cos(phi(t)),cos(phi(t))], [sin(phi(t)),sin(phi(t))], [L/2, -L/2]])\n",
        "E"
      ],
      "execution_count": null,
      "outputs": [
        {
          "output_type": "execute_result",
          "data": {
            "text/latex": "$\\displaystyle \\left[\\begin{matrix}\\frac{\\cos{\\left(\\phi{\\left(t \\right)} \\right)}}{r} & \\frac{\\cos{\\left(\\phi{\\left(t \\right)} \\right)}}{r}\\\\\\frac{\\sin{\\left(\\phi{\\left(t \\right)} \\right)}}{r} & \\frac{\\sin{\\left(\\phi{\\left(t \\right)} \\right)}}{r}\\\\\\frac{L}{2 r} & - \\frac{L}{2 r}\\end{matrix}\\right]$",
            "text/plain": [
              "Matrix([\n",
              "[cos(phi(t))/r, cos(phi(t))/r],\n",
              "[sin(phi(t))/r, sin(phi(t))/r],\n",
              "[      L/(2*r),      -L/(2*r)]])"
            ]
          },
          "metadata": {
            "tags": []
          },
          "execution_count": 17
        }
      ]
    },
    {
      "cell_type": "markdown",
      "metadata": {
        "id": "-Im-Pt5Kuro2"
      },
      "source": [
        "### Restrições\n",
        "\n",
        "$\\mathbf{M}(q)\\ddot{\\mathbf{q}}=\\mathbf{E}(q)\\boldsymbol{\\tau}-\\mathbf{A}(q)\\lambda$"
      ]
    },
    {
      "cell_type": "code",
      "metadata": {
        "id": "vgxpCaLGuro3",
        "outputId": "818be8b6-c6ee-40d8-a6d9-86625571a4ef"
      },
      "source": [
        "Eq(M_matrix*diff(diff(Matrix([[x(t)],[y(t)],[phi(t)]]),t),t),E*Matrix([[tau_r],[ tau_l]])-A.T*Lbd)"
      ],
      "execution_count": null,
      "outputs": [
        {
          "output_type": "execute_result",
          "data": {
            "text/latex": "$\\displaystyle \\left[\\begin{matrix}m \\frac{d^{2}}{d t^{2}} x{\\left(t \\right)}\\\\m \\frac{d^{2}}{d t^{2}} y{\\left(t \\right)}\\\\J \\frac{d^{2}}{d t^{2}} \\phi{\\left(t \\right)}\\end{matrix}\\right] = \\left[\\begin{matrix}\\lambda \\sin{\\left(\\phi{\\left(t \\right)} \\right)} + \\frac{\\tau_{l} \\cos{\\left(\\phi{\\left(t \\right)} \\right)}}{r} + \\frac{\\tau_{r} \\cos{\\left(\\phi{\\left(t \\right)} \\right)}}{r}\\\\- \\lambda \\cos{\\left(\\phi{\\left(t \\right)} \\right)} + \\frac{\\tau_{l} \\sin{\\left(\\phi{\\left(t \\right)} \\right)}}{r} + \\frac{\\tau_{r} \\sin{\\left(\\phi{\\left(t \\right)} \\right)}}{r}\\\\- \\frac{L \\tau_{l}}{2 r} + \\frac{L \\tau_{r}}{2 r}\\end{matrix}\\right]$",
            "text/plain": [
              "Eq(Matrix([\n",
              "[  m*Derivative(x(t), (t, 2))],\n",
              "[  m*Derivative(y(t), (t, 2))],\n",
              "[J*Derivative(phi(t), (t, 2))]]), Matrix([\n",
              "[ lambda*sin(phi(t)) + tau_l*cos(phi(t))/r + tau_r*cos(phi(t))/r],\n",
              "[-lambda*cos(phi(t)) + tau_l*sin(phi(t))/r + tau_r*sin(phi(t))/r],\n",
              "[                                 -L*tau_l/(2*r) + L*tau_r/(2*r)]]))"
            ]
          },
          "metadata": {
            "tags": []
          },
          "execution_count": 39
        }
      ]
    },
    {
      "cell_type": "markdown",
      "metadata": {
        "id": "SiJNxcYburo5"
      },
      "source": [
        "### Pseudo Velocidades\n",
        "\n",
        "$\\mathbf{\\tilde{M}}, \\mathbf{\\tilde{V}}, \\mathbf{\\tilde{E}}$"
      ]
    },
    {
      "cell_type": "code",
      "metadata": {
        "id": "RrGltHviuro6",
        "outputId": "9b96b0d0-a28f-4b03-d80e-e5179369de7b"
      },
      "source": [
        "M_tilde = simplify(S.T*M_matrix*S)\n",
        "M_tilde"
      ],
      "execution_count": null,
      "outputs": [
        {
          "output_type": "execute_result",
          "data": {
            "text/latex": "$\\displaystyle \\left[\\begin{matrix}m & 0\\\\0 & J\\end{matrix}\\right]$",
            "text/plain": [
              "Matrix([\n",
              "[m, 0],\n",
              "[0, J]])"
            ]
          },
          "metadata": {
            "tags": []
          },
          "execution_count": 32
        }
      ]
    },
    {
      "cell_type": "code",
      "metadata": {
        "id": "rkyfAAt7uro6",
        "outputId": "b278df0a-431d-45e9-c752-9884e82e3578"
      },
      "source": [
        "E_tilde = simplify(S.T*E)\n",
        "E_tilde"
      ],
      "execution_count": null,
      "outputs": [
        {
          "output_type": "execute_result",
          "data": {
            "text/latex": "$\\displaystyle \\left[\\begin{matrix}\\frac{1}{r} & \\frac{1}{r}\\\\\\frac{L}{2 r} & - \\frac{L}{2 r}\\end{matrix}\\right]$",
            "text/plain": [
              "Matrix([\n",
              "[    1/r,      1/r],\n",
              "[L/(2*r), -L/(2*r)]])"
            ]
          },
          "metadata": {
            "tags": []
          },
          "execution_count": 33
        }
      ]
    },
    {
      "cell_type": "code",
      "metadata": {
        "id": "h5vx69qburo7",
        "outputId": "86696a7f-790f-4b14-8f64-90f793904175"
      },
      "source": [
        "M_tilde.inv()*E_tilde*Matrix([[tau_r],[ tau_l]])"
      ],
      "execution_count": null,
      "outputs": [
        {
          "output_type": "execute_result",
          "data": {
            "text/latex": "$\\displaystyle \\left[\\begin{matrix}\\frac{\\tau_{l}}{m r} + \\frac{\\tau_{r}}{m r}\\\\- \\frac{L \\tau_{l}}{2 J r} + \\frac{L \\tau_{r}}{2 J r}\\end{matrix}\\right]$",
            "text/plain": [
              "Matrix([\n",
              "[         tau_l/(m*r) + tau_r/(m*r)],\n",
              "[-L*tau_l/(2*J*r) + L*tau_r/(2*J*r)]])"
            ]
          },
          "metadata": {
            "tags": []
          },
          "execution_count": 34
        }
      ]
    }
  ]
}
